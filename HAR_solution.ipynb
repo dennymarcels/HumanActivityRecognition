{
 "cells": [
  {
   "cell_type": "markdown",
   "metadata": {},
   "source": [
    "# UCI Human Activity Recognition Using Smartphones Data Set\n",
    "\n",
    "If, like me, you have already attended a machine learning course, you probably already know this dataset.\n",
    "\n",
    "From their outstandingly descriptive [webpage](http://archive.ics.uci.edu/ml/datasets/Human+Activity+Recognition+Using+Smartphones):\n",
    "\n",
    "> **Data Set Information:**\n",
    "> \n",
    "> The experiments have been carried out with a group of 30 volunteers within an age bracket of 19-48 years. Each person performed six activities (WALKING, WALKING_UPSTAIRS, WALKING_DOWNSTAIRS, SITTING, STANDING, LAYING) wearing a smartphone (Samsung Galaxy S II) on the waist. Using its embedded accelerometer and gyroscope, we captured 3-axial linear acceleration and 3-axial angular velocity at a constant rate of 50Hz. The experiments have been video-recorded to label the data manually. The obtained dataset has been randomly partitioned into two sets, where 70% of the volunteers was selected for generating the training data and 30% the test data. \n",
    "> \n",
    "> The sensor signals (accelerometer and gyroscope) were pre-processed by applying noise filters and then sampled in fixed-width sliding windows of 2.56 sec and 50% overlap (128 readings/window). The sensor acceleration signal, which has gravitational and body motion components, was separated using a Butterworth low-pass filter into body acceleration and gravity. The gravitational force is assumed to have only low frequency components, therefore a filter with 0.3 Hz cutoff frequency was used. From each window, a vector of features was obtained by calculating variables from the time and frequency domain.\n",
    "> \n",
    "> **Attribute Information:**\n",
    "> \n",
    "> For each record in the dataset it is provided: \n",
    "> - Triaxial acceleration from the accelerometer (total acceleration) and the estimated body acceleration. \n",
    "> - Triaxial Angular velocity from the gyroscope. \n",
    "> - A 561-feature vector with time and frequency domain variables. \n",
    "> - Its activity label. \n",
    "> - An identifier of the subject who carried out the experiment.\n",
    "\n",
    "Well, did you also go dizzy with those transformations applied to the sensor signals? Worry not! I also have no idea what they are talking about, but thing is, it makes no difference in this case, since, **#spoiler alert!#** my model performed very nicely after my decision to disregard that information and work with the features at face value. It seems they were simply necessary transformation to turn the signals into useful information.\n",
    "\n",
    "One thing I would like to comment though: that 561-feature vector, that is my source of data for machine learning, contains mostly statistical information, like average, curtosis and standard deviation, determined on the single movement measurements. Although it comes as no surprise, I found it quite amusing to realize in practice that something such as a standard deviation is useful to model a behavior!"
   ]
  },
  {
   "cell_type": "markdown",
   "metadata": {},
   "source": [
    "## My approach\n",
    "\n",
    "When exploring public datasets, I enjoy to tackle each one of them from a slightly different perspective. For this example, I decided to explore the [Scikit-Learn Supervised learning models](https://scikit-learn.org/stable/supervised_learning.html) one by one, trying to pursuit the best-performing. I used all of those that were proper for classification problems, with their default parameters. Then, I delved into the documentation for the best-performing model, in order to explore and tune its parameters. Felt like learning with no effort!"
   ]
  },
  {
   "cell_type": "markdown",
   "metadata": {},
   "source": [
    "### Loading dependencies\n",
    "\n",
    "(Do you also think these three should be automatically loaded by default?)"
   ]
  },
  {
   "cell_type": "code",
   "execution_count": 1,
   "metadata": {
    "ExecuteTime": {
     "end_time": "2019-03-27T14:04:56.443339Z",
     "start_time": "2019-03-27T14:04:47.830672Z"
    }
   },
   "outputs": [],
   "source": [
    "import pandas as pd\n",
    "import numpy as np\n",
    "import matplotlib.pyplot as plt"
   ]
  },
  {
   "cell_type": "markdown",
   "metadata": {},
   "source": [
    "Now I will load a file containing the features names, and the training set (both features values and labels)."
   ]
  },
  {
   "cell_type": "code",
   "execution_count": 2,
   "metadata": {
    "ExecuteTime": {
     "end_time": "2019-03-27T14:04:58.235310Z",
     "start_time": "2019-03-27T14:04:56.448321Z"
    }
   },
   "outputs": [],
   "source": [
    "features_names = pd.read_csv('features.txt', delimiter = '\\s+', header = None)\n",
    "X_train = pd.read_csv('train/X_train.txt', delimiter = '\\s+',  header = None)\n",
    "y_train = pd.read_csv('train/y_train.txt', delimiter = '\\s+', header = None)"
   ]
  },
  {
   "cell_type": "markdown",
   "metadata": {},
   "source": [
    "The columns in the original `X_train` file are not labeled, so let me do it."
   ]
  },
  {
   "cell_type": "code",
   "execution_count": 3,
   "metadata": {
    "ExecuteTime": {
     "end_time": "2019-03-27T14:04:58.244226Z",
     "start_time": "2019-03-27T14:04:58.237247Z"
    }
   },
   "outputs": [],
   "source": [
    "X_train.columns = features_names.iloc[:, 1]"
   ]
  },
  {
   "cell_type": "markdown",
   "metadata": {},
   "source": [
    "Now that mandatory first inspection."
   ]
  },
  {
   "cell_type": "code",
   "execution_count": 4,
   "metadata": {
    "ExecuteTime": {
     "end_time": "2019-03-27T14:04:58.371528Z",
     "start_time": "2019-03-27T14:04:58.251208Z"
    }
   },
   "outputs": [
    {
     "data": {
      "text/html": [
       "<div>\n",
       "<style scoped>\n",
       "    .dataframe tbody tr th:only-of-type {\n",
       "        vertical-align: middle;\n",
       "    }\n",
       "\n",
       "    .dataframe tbody tr th {\n",
       "        vertical-align: top;\n",
       "    }\n",
       "\n",
       "    .dataframe thead th {\n",
       "        text-align: right;\n",
       "    }\n",
       "</style>\n",
       "<table border=\"1\" class=\"dataframe\">\n",
       "  <thead>\n",
       "    <tr style=\"text-align: right;\">\n",
       "      <th>1</th>\n",
       "      <th>tBodyAcc-mean()-X</th>\n",
       "      <th>tBodyAcc-mean()-Y</th>\n",
       "      <th>tBodyAcc-mean()-Z</th>\n",
       "      <th>tBodyAcc-std()-X</th>\n",
       "      <th>tBodyAcc-std()-Y</th>\n",
       "      <th>tBodyAcc-std()-Z</th>\n",
       "      <th>tBodyAcc-mad()-X</th>\n",
       "      <th>tBodyAcc-mad()-Y</th>\n",
       "      <th>tBodyAcc-mad()-Z</th>\n",
       "      <th>tBodyAcc-max()-X</th>\n",
       "      <th>...</th>\n",
       "      <th>fBodyBodyGyroJerkMag-meanFreq()</th>\n",
       "      <th>fBodyBodyGyroJerkMag-skewness()</th>\n",
       "      <th>fBodyBodyGyroJerkMag-kurtosis()</th>\n",
       "      <th>angle(tBodyAccMean,gravity)</th>\n",
       "      <th>angle(tBodyAccJerkMean),gravityMean)</th>\n",
       "      <th>angle(tBodyGyroMean,gravityMean)</th>\n",
       "      <th>angle(tBodyGyroJerkMean,gravityMean)</th>\n",
       "      <th>angle(X,gravityMean)</th>\n",
       "      <th>angle(Y,gravityMean)</th>\n",
       "      <th>angle(Z,gravityMean)</th>\n",
       "    </tr>\n",
       "  </thead>\n",
       "  <tbody>\n",
       "    <tr>\n",
       "      <th>0</th>\n",
       "      <td>0.288585</td>\n",
       "      <td>-0.020294</td>\n",
       "      <td>-0.132905</td>\n",
       "      <td>-0.995279</td>\n",
       "      <td>-0.983111</td>\n",
       "      <td>-0.913526</td>\n",
       "      <td>-0.995112</td>\n",
       "      <td>-0.983185</td>\n",
       "      <td>-0.923527</td>\n",
       "      <td>-0.934724</td>\n",
       "      <td>...</td>\n",
       "      <td>-0.074323</td>\n",
       "      <td>-0.298676</td>\n",
       "      <td>-0.710304</td>\n",
       "      <td>-0.112754</td>\n",
       "      <td>0.030400</td>\n",
       "      <td>-0.464761</td>\n",
       "      <td>-0.018446</td>\n",
       "      <td>-0.841247</td>\n",
       "      <td>0.179941</td>\n",
       "      <td>-0.058627</td>\n",
       "    </tr>\n",
       "    <tr>\n",
       "      <th>1</th>\n",
       "      <td>0.278419</td>\n",
       "      <td>-0.016411</td>\n",
       "      <td>-0.123520</td>\n",
       "      <td>-0.998245</td>\n",
       "      <td>-0.975300</td>\n",
       "      <td>-0.960322</td>\n",
       "      <td>-0.998807</td>\n",
       "      <td>-0.974914</td>\n",
       "      <td>-0.957686</td>\n",
       "      <td>-0.943068</td>\n",
       "      <td>...</td>\n",
       "      <td>0.158075</td>\n",
       "      <td>-0.595051</td>\n",
       "      <td>-0.861499</td>\n",
       "      <td>0.053477</td>\n",
       "      <td>-0.007435</td>\n",
       "      <td>-0.732626</td>\n",
       "      <td>0.703511</td>\n",
       "      <td>-0.844788</td>\n",
       "      <td>0.180289</td>\n",
       "      <td>-0.054317</td>\n",
       "    </tr>\n",
       "    <tr>\n",
       "      <th>2</th>\n",
       "      <td>0.279653</td>\n",
       "      <td>-0.019467</td>\n",
       "      <td>-0.113462</td>\n",
       "      <td>-0.995380</td>\n",
       "      <td>-0.967187</td>\n",
       "      <td>-0.978944</td>\n",
       "      <td>-0.996520</td>\n",
       "      <td>-0.963668</td>\n",
       "      <td>-0.977469</td>\n",
       "      <td>-0.938692</td>\n",
       "      <td>...</td>\n",
       "      <td>0.414503</td>\n",
       "      <td>-0.390748</td>\n",
       "      <td>-0.760104</td>\n",
       "      <td>-0.118559</td>\n",
       "      <td>0.177899</td>\n",
       "      <td>0.100699</td>\n",
       "      <td>0.808529</td>\n",
       "      <td>-0.848933</td>\n",
       "      <td>0.180637</td>\n",
       "      <td>-0.049118</td>\n",
       "    </tr>\n",
       "    <tr>\n",
       "      <th>3</th>\n",
       "      <td>0.279174</td>\n",
       "      <td>-0.026201</td>\n",
       "      <td>-0.123283</td>\n",
       "      <td>-0.996091</td>\n",
       "      <td>-0.983403</td>\n",
       "      <td>-0.990675</td>\n",
       "      <td>-0.997099</td>\n",
       "      <td>-0.982750</td>\n",
       "      <td>-0.989302</td>\n",
       "      <td>-0.938692</td>\n",
       "      <td>...</td>\n",
       "      <td>0.404573</td>\n",
       "      <td>-0.117290</td>\n",
       "      <td>-0.482845</td>\n",
       "      <td>-0.036788</td>\n",
       "      <td>-0.012892</td>\n",
       "      <td>0.640011</td>\n",
       "      <td>-0.485366</td>\n",
       "      <td>-0.848649</td>\n",
       "      <td>0.181935</td>\n",
       "      <td>-0.047663</td>\n",
       "    </tr>\n",
       "    <tr>\n",
       "      <th>4</th>\n",
       "      <td>0.276629</td>\n",
       "      <td>-0.016570</td>\n",
       "      <td>-0.115362</td>\n",
       "      <td>-0.998139</td>\n",
       "      <td>-0.980817</td>\n",
       "      <td>-0.990482</td>\n",
       "      <td>-0.998321</td>\n",
       "      <td>-0.979672</td>\n",
       "      <td>-0.990441</td>\n",
       "      <td>-0.942469</td>\n",
       "      <td>...</td>\n",
       "      <td>0.087753</td>\n",
       "      <td>-0.351471</td>\n",
       "      <td>-0.699205</td>\n",
       "      <td>0.123320</td>\n",
       "      <td>0.122542</td>\n",
       "      <td>0.693578</td>\n",
       "      <td>-0.615971</td>\n",
       "      <td>-0.847865</td>\n",
       "      <td>0.185151</td>\n",
       "      <td>-0.043892</td>\n",
       "    </tr>\n",
       "  </tbody>\n",
       "</table>\n",
       "<p>5 rows × 561 columns</p>\n",
       "</div>"
      ],
      "text/plain": [
       "1  tBodyAcc-mean()-X  tBodyAcc-mean()-Y  tBodyAcc-mean()-Z  tBodyAcc-std()-X  \\\n",
       "0           0.288585          -0.020294          -0.132905         -0.995279   \n",
       "1           0.278419          -0.016411          -0.123520         -0.998245   \n",
       "2           0.279653          -0.019467          -0.113462         -0.995380   \n",
       "3           0.279174          -0.026201          -0.123283         -0.996091   \n",
       "4           0.276629          -0.016570          -0.115362         -0.998139   \n",
       "\n",
       "1  tBodyAcc-std()-Y  tBodyAcc-std()-Z  tBodyAcc-mad()-X  tBodyAcc-mad()-Y  \\\n",
       "0         -0.983111         -0.913526         -0.995112         -0.983185   \n",
       "1         -0.975300         -0.960322         -0.998807         -0.974914   \n",
       "2         -0.967187         -0.978944         -0.996520         -0.963668   \n",
       "3         -0.983403         -0.990675         -0.997099         -0.982750   \n",
       "4         -0.980817         -0.990482         -0.998321         -0.979672   \n",
       "\n",
       "1  tBodyAcc-mad()-Z  tBodyAcc-max()-X  ...  fBodyBodyGyroJerkMag-meanFreq()  \\\n",
       "0         -0.923527         -0.934724  ...                        -0.074323   \n",
       "1         -0.957686         -0.943068  ...                         0.158075   \n",
       "2         -0.977469         -0.938692  ...                         0.414503   \n",
       "3         -0.989302         -0.938692  ...                         0.404573   \n",
       "4         -0.990441         -0.942469  ...                         0.087753   \n",
       "\n",
       "1  fBodyBodyGyroJerkMag-skewness()  fBodyBodyGyroJerkMag-kurtosis()  \\\n",
       "0                        -0.298676                        -0.710304   \n",
       "1                        -0.595051                        -0.861499   \n",
       "2                        -0.390748                        -0.760104   \n",
       "3                        -0.117290                        -0.482845   \n",
       "4                        -0.351471                        -0.699205   \n",
       "\n",
       "1  angle(tBodyAccMean,gravity)  angle(tBodyAccJerkMean),gravityMean)  \\\n",
       "0                    -0.112754                              0.030400   \n",
       "1                     0.053477                             -0.007435   \n",
       "2                    -0.118559                              0.177899   \n",
       "3                    -0.036788                             -0.012892   \n",
       "4                     0.123320                              0.122542   \n",
       "\n",
       "1  angle(tBodyGyroMean,gravityMean)  angle(tBodyGyroJerkMean,gravityMean)  \\\n",
       "0                         -0.464761                             -0.018446   \n",
       "1                         -0.732626                              0.703511   \n",
       "2                          0.100699                              0.808529   \n",
       "3                          0.640011                             -0.485366   \n",
       "4                          0.693578                             -0.615971   \n",
       "\n",
       "1  angle(X,gravityMean)  angle(Y,gravityMean)  angle(Z,gravityMean)  \n",
       "0             -0.841247              0.179941             -0.058627  \n",
       "1             -0.844788              0.180289             -0.054317  \n",
       "2             -0.848933              0.180637             -0.049118  \n",
       "3             -0.848649              0.181935             -0.047663  \n",
       "4             -0.847865              0.185151             -0.043892  \n",
       "\n",
       "[5 rows x 561 columns]"
      ]
     },
     "execution_count": 4,
     "metadata": {},
     "output_type": "execute_result"
    }
   ],
   "source": [
    "X_train.head()"
   ]
  },
  {
   "cell_type": "markdown",
   "metadata": {
    "ExecuteTime": {
     "end_time": "2019-03-26T15:52:29.481758Z",
     "start_time": "2019-03-26T15:52:29.471783Z"
    }
   },
   "source": [
    "Are there empty values?"
   ]
  },
  {
   "cell_type": "code",
   "execution_count": 5,
   "metadata": {
    "ExecuteTime": {
     "end_time": "2019-03-27T14:04:58.501045Z",
     "start_time": "2019-03-27T14:04:58.374486Z"
    }
   },
   "outputs": [
    {
     "data": {
      "text/plain": [
       "0"
      ]
     },
     "execution_count": 5,
     "metadata": {},
     "output_type": "execute_result"
    }
   ],
   "source": [
    "X_train.isna().sum(axis = 1).sum()"
   ]
  },
  {
   "cell_type": "markdown",
   "metadata": {},
   "source": [
    "No empty values.\n",
    "\n",
    "All features are supposed to be floats, were they loaded as such?"
   ]
  },
  {
   "cell_type": "code",
   "execution_count": 6,
   "metadata": {
    "ExecuteTime": {
     "end_time": "2019-03-27T14:04:58.547916Z",
     "start_time": "2019-03-27T14:04:58.503004Z"
    }
   },
   "outputs": [
    {
     "data": {
      "text/plain": [
       "float64    561\n",
       "dtype: int64"
      ]
     },
     "execution_count": 6,
     "metadata": {},
     "output_type": "execute_result"
    }
   ],
   "source": [
    "X_train.dtypes.value_counts()"
   ]
  },
  {
   "cell_type": "markdown",
   "metadata": {},
   "source": [
    "Yes, we got 561 float features.\n",
    "\n",
    "Now, from the extensive documentation on this dataset, I know that all values are supposed to be normalized in the range \\[-1, 1\\]. Is that so? "
   ]
  },
  {
   "cell_type": "code",
   "execution_count": 7,
   "metadata": {
    "ExecuteTime": {
     "end_time": "2019-03-27T14:05:01.388048Z",
     "start_time": "2019-03-27T14:04:58.550877Z"
    }
   },
   "outputs": [
    {
     "data": {
      "text/plain": [
       "{'whiskers': [<matplotlib.lines.Line2D at 0x2684ffb29e8>,\n",
       "  <matplotlib.lines.Line2D at 0x2684ffb2d30>],\n",
       " 'caps': [<matplotlib.lines.Line2D at 0x2684ffb2e10>,\n",
       "  <matplotlib.lines.Line2D at 0x2684ffc6400>],\n",
       " 'boxes': [<matplotlib.lines.Line2D at 0x2684ffb25f8>],\n",
       " 'medians': [<matplotlib.lines.Line2D at 0x2684ffc6748>],\n",
       " 'fliers': [<matplotlib.lines.Line2D at 0x2684ffc6a90>],\n",
       " 'means': []}"
      ]
     },
     "execution_count": 7,
     "metadata": {},
     "output_type": "execute_result"
    },
    {
     "data": {
      "image/png": "[encoded data removed]",
      "text/plain": [
       "<Figure size 432x288 with 2 Axes>"
      ]
     },
     "metadata": {
      "needs_background": "light"
     },
     "output_type": "display_data"
    }
   ],
   "source": [
    "describe = X_train.describe()\n",
    "fig, ax = plt.subplots(1, 2)\n",
    "ax[0].boxplot(describe.loc['min'])\n",
    "ax[1].boxplot(describe.loc['max'])"
   ]
  },
  {
   "cell_type": "markdown",
   "metadata": {},
   "source": [
    "Alrighty! Most of the minimum values is close to -1, all are between -0.5 and -1 and none is lower than -1. Most of the maximum values is close to 1, all are between circa 0.5 and 1.0 and none is higher than 1.0.\n",
    "\n",
    "This is one of those rare datasets where no imputation or transformation seems to be necessary. The people making it available made sure it was gold standard.\n",
    "\n",
    "Now, for my first attempt in fitting a model, and in order to save processing time, I will work with a sample of the original dataset. I am subsampling 500 entries from the 7352 available. I am doing this using random indexes."
   ]
  },
  {
   "cell_type": "code",
   "execution_count": 8,
   "metadata": {
    "ExecuteTime": {
     "end_time": "2019-03-27T14:05:01.412520Z",
     "start_time": "2019-03-27T14:05:01.391040Z"
    }
   },
   "outputs": [],
   "source": [
    "np.random.seed(24)\n",
    "sample = np.random.randint(low = 0, high = len(X_train), size = 500)\n",
    "sample.sort()\n",
    "\n",
    "X_train_sample = X_train.iloc[sample, :]\n",
    "y_train_sample = y_train.iloc[sample, :]"
   ]
  },
  {
   "cell_type": "markdown",
   "metadata": {},
   "source": [
    "Now I am loading some dependencies I am sure will be needed any time. Other dependencies will be loaded as needed."
   ]
  },
  {
   "cell_type": "code",
   "execution_count": 9,
   "metadata": {
    "ExecuteTime": {
     "end_time": "2019-03-27T14:05:09.889661Z",
     "start_time": "2019-03-27T14:05:01.422493Z"
    }
   },
   "outputs": [],
   "source": [
    "from sklearn import metrics\n",
    "from sklearn.model_selection import cross_val_score"
   ]
  },
  {
   "cell_type": "markdown",
   "metadata": {},
   "source": [
    "Let me start fitting some models. \n",
    "\n",
    "Since the cross-validation step, and the results report, is the same for all models, let me first define a useful function to call every single time and save me typing. I will use 5 folds as the standard parameter value for cross-validation. Also, I am turning `y_train_sample` into a 1D array, otherwise the fitting step will fail."
   ]
  },
  {
   "cell_type": "code",
   "execution_count": 10,
   "metadata": {
    "ExecuteTime": {
     "end_time": "2019-03-27T14:05:09.908266Z",
     "start_time": "2019-03-27T14:05:09.893314Z"
    }
   },
   "outputs": [],
   "source": [
    "def model_report(model, X_train = X_train_sample, y_train = y_train_sample, cv = 5):\n",
    "    scores = cross_val_score(model, X_train, np.ravel(y_train), cv = cv)\n",
    "    print('Accuracy: ', scores.mean())"
   ]
  },
  {
   "cell_type": "markdown",
   "metadata": {},
   "source": [
    "Remember that I want to explore the [Scikit-Learn Supervised learning models](https://scikit-learn.org/stable/supervised_learning.html) documentation. I plan to use at this time the default parameters. Being so, I could call each function with no parameter discrimination, but I am choosing to explicitly enter them for two reasons. First, this helps me familiarize with the options. Second, this way I avoid some warnings in the output that in my opinion pollute this notebook visually.\n",
    "\n",
    "The first classification model in that list is..."
   ]
  },
  {
   "cell_type": "markdown",
   "metadata": {},
   "source": [
    "### 1.1 Generalized Linear Models\n",
    "\n",
    "**[1.1.11 Logistic Regression](https://scikit-learn.org/stable/modules/generated/sklearn.linear_model.LogisticRegression.html#sklearn.linear_model.LogisticRegression)**"
   ]
  },
  {
   "cell_type": "code",
   "execution_count": 11,
   "metadata": {
    "ExecuteTime": {
     "end_time": "2019-03-27T14:05:12.981907Z",
     "start_time": "2019-03-27T14:05:09.915248Z"
    }
   },
   "outputs": [
    {
     "name": "stdout",
     "output_type": "stream",
     "text": [
      "Accuracy:  0.9222794939688143\n"
     ]
    }
   ],
   "source": [
    "from sklearn.linear_model import LogisticRegression\n",
    "model = LogisticRegression(penalty = 'l2', \n",
    "                           dual = False, \n",
    "                           tol = 0.0001,\n",
    "                           C = 1.0, \n",
    "                           fit_intercept = True, \n",
    "                           intercept_scaling = 1, \n",
    "                           class_weight = None, \n",
    "                           random_state = None, \n",
    "                           solver= 'liblinear', \n",
    "                           max_iter = 100, \n",
    "                           multi_class= 'ovr', \n",
    "                           verbose=0, \n",
    "                           warm_start = False, \n",
    "                           n_jobs = None)\n",
    "model_report(model)"
   ]
  },
  {
   "cell_type": "markdown",
   "metadata": {},
   "source": [
    "**[1.1.12 Stochastic Gradient Descent (SGD) Classifier](https://scikit-learn.org/stable/modules/generated/sklearn.linear_model.SGDClassifier.html#sklearn.linear_model.SGDClassifier)**"
   ]
  },
  {
   "cell_type": "code",
   "execution_count": 12,
   "metadata": {
    "ExecuteTime": {
     "end_time": "2019-03-27T14:05:13.175475Z",
     "start_time": "2019-03-27T14:05:12.984899Z"
    }
   },
   "outputs": [
    {
     "name": "stdout",
     "output_type": "stream",
     "text": [
      "Accuracy:  0.8585744826909876\n"
     ]
    }
   ],
   "source": [
    "from sklearn.linear_model import SGDClassifier\n",
    "model = SGDClassifier(loss = 'hinge',\n",
    "                      penalty = 'l2',\n",
    "                      alpha = 0.0001,\n",
    "                      l1_ratio = 0.15,\n",
    "                      fit_intercept = True,\n",
    "                      max_iter = 5,\n",
    "                      tol = float('-inf'),\n",
    "                      shuffle = True,\n",
    "                      verbose = 0,\n",
    "                      epsilon = 0.1,\n",
    "                      n_jobs = None,\n",
    "                      random_state = None,\n",
    "                      learning_rate = 'optimal',\n",
    "                      eta0 = 0.0,\n",
    "                      power_t = 0.5,\n",
    "                      early_stopping = False,\n",
    "                      validation_fraction = 0.1,\n",
    "                      n_iter_no_change = 5,\n",
    "                      class_weight = None,\n",
    "                      warm_start = False,\n",
    "                      average = False,\n",
    "                      n_iter = None)\n",
    "model_report(model)"
   ]
  },
  {
   "cell_type": "markdown",
   "metadata": {},
   "source": [
    "**[1.1.13 Perceptron](https://scikit-learn.org/stable/modules/generated/sklearn.linear_model.Perceptron.html#sklearn.linear_model.Perceptron)**"
   ]
  },
  {
   "cell_type": "code",
   "execution_count": 13,
   "metadata": {
    "ExecuteTime": {
     "end_time": "2019-03-27T14:05:13.310625Z",
     "start_time": "2019-03-27T14:05:13.179464Z"
    }
   },
   "outputs": [
    {
     "name": "stdout",
     "output_type": "stream",
     "text": [
      "Accuracy:  0.8059576345984112\n"
     ]
    }
   ],
   "source": [
    "from sklearn.linear_model import Perceptron\n",
    "model = Perceptron(penalty = None,\n",
    "                   alpha = 0.0001,\n",
    "                   fit_intercept = True,\n",
    "                   max_iter = 5,\n",
    "                   tol = float('-inf'),\n",
    "                   shuffle = True,\n",
    "                   verbose = 0,\n",
    "                   eta0 = 1.0,\n",
    "                   n_jobs = None,\n",
    "                   random_state = 0,\n",
    "                   early_stopping = False,\n",
    "                   validation_fraction = 0.1,\n",
    "                   n_iter_no_change = 5,\n",
    "                   class_weight = None,\n",
    "                   warm_start = False,\n",
    "                   n_iter = None)\n",
    "model_report(model)"
   ]
  },
  {
   "cell_type": "markdown",
   "metadata": {},
   "source": [
    "**[1.1.14 Passive Aggressive Classifier](https://scikit-learn.org/stable/modules/generated/sklearn.linear_model.PassiveAggressiveClassifier.html#sklearn.linear_model.PassiveAggressiveClassifier)**"
   ]
  },
  {
   "cell_type": "code",
   "execution_count": 14,
   "metadata": {
    "ExecuteTime": {
     "end_time": "2019-03-27T14:05:13.492653Z",
     "start_time": "2019-03-27T14:05:13.313617Z"
    }
   },
   "outputs": [
    {
     "name": "stdout",
     "output_type": "stream",
     "text": [
      "Accuracy:  0.8355677159949005\n"
     ]
    }
   ],
   "source": [
    "from sklearn.linear_model import PassiveAggressiveClassifier\n",
    "model = PassiveAggressiveClassifier(C = 1.0, \n",
    "                                    fit_intercept = True, \n",
    "                                    max_iter = 5,\n",
    "                                    tol = float('-inf'),\n",
    "                                    early_stopping = False,\n",
    "                                    validation_fraction = 0.1,\n",
    "                                    n_iter_no_change = 5, shuffle = True,\n",
    "                                    verbose = 0, \n",
    "                                    loss = 'hinge', \n",
    "                                    n_jobs = None, \n",
    "                                    random_state = None, \n",
    "                                    warm_start = False, \n",
    "                                    class_weight = None, \n",
    "                                    average = False, \n",
    "                                    n_iter=None)\n",
    "model_report(model)"
   ]
  },
  {
   "cell_type": "markdown",
   "metadata": {},
   "source": [
    "### 1.2 Linear and Quadratic Discriminant Analysis\n",
    "\n",
    "**[1.2.1a Linear Discriminant Analysis](https://scikit-learn.org/stable/modules/generated/sklearn.discriminant_analysis.LinearDiscriminantAnalysis.html#sklearn.discriminant_analysis.LinearDiscriminantAnalysis)**"
   ]
  },
  {
   "cell_type": "code",
   "execution_count": 15,
   "metadata": {
    "ExecuteTime": {
     "end_time": "2019-03-27T14:05:14.736215Z",
     "start_time": "2019-03-27T14:05:13.495645Z"
    }
   },
   "outputs": [
    {
     "name": "stderr",
     "output_type": "stream",
     "text": [
      "C:\\Users\\Denny\\Anaconda3\\lib\\site-packages\\sklearn\\discriminant_analysis.py:388: UserWarning: Variables are collinear.\n",
      "  warnings.warn(\"Variables are collinear.\")\n",
      "C:\\Users\\Denny\\Anaconda3\\lib\\site-packages\\sklearn\\discriminant_analysis.py:388: UserWarning: Variables are collinear.\n",
      "  warnings.warn(\"Variables are collinear.\")\n",
      "C:\\Users\\Denny\\Anaconda3\\lib\\site-packages\\sklearn\\discriminant_analysis.py:388: UserWarning: Variables are collinear.\n",
      "  warnings.warn(\"Variables are collinear.\")\n",
      "C:\\Users\\Denny\\Anaconda3\\lib\\site-packages\\sklearn\\discriminant_analysis.py:388: UserWarning: Variables are collinear.\n",
      "  warnings.warn(\"Variables are collinear.\")\n"
     ]
    },
    {
     "name": "stdout",
     "output_type": "stream",
     "text": [
      "Accuracy:  0.7124405217220751\n"
     ]
    },
    {
     "name": "stderr",
     "output_type": "stream",
     "text": [
      "C:\\Users\\Denny\\Anaconda3\\lib\\site-packages\\sklearn\\discriminant_analysis.py:388: UserWarning: Variables are collinear.\n",
      "  warnings.warn(\"Variables are collinear.\")\n"
     ]
    }
   ],
   "source": [
    "from sklearn.discriminant_analysis import LinearDiscriminantAnalysis\n",
    "model = LinearDiscriminantAnalysis(solver = 'svd',\n",
    "                                   shrinkage = None,\n",
    "                                   priors = None,\n",
    "                                   n_components = None,\n",
    "                                   store_covariance = False,\n",
    "                                   tol = 0.0001)\n",
    "model_report(model)"
   ]
  },
  {
   "cell_type": "markdown",
   "metadata": {},
   "source": [
    "Now I have been warned that variables are collinear. This does not seem surprising, since the sensors might be capturing correlated movements (for example, if the person is moving upwards, they are also, er, moving). Let me go on disregarding that."
   ]
  },
  {
   "cell_type": "markdown",
   "metadata": {},
   "source": [
    "**[1.2.1b Quadratic Discriminant Analysis](https://scikit-learn.org/stable/modules/generated/sklearn.discriminant_analysis.QuadraticDiscriminantAnalysis.html#sklearn.discriminant_analysis.QuadraticDiscriminantAnalysis)**"
   ]
  },
  {
   "cell_type": "code",
   "execution_count": 16,
   "metadata": {
    "ExecuteTime": {
     "end_time": "2019-03-27T14:05:15.092541Z",
     "start_time": "2019-03-27T14:05:14.738209Z"
    }
   },
   "outputs": [
    {
     "name": "stderr",
     "output_type": "stream",
     "text": [
      "C:\\Users\\Denny\\Anaconda3\\lib\\site-packages\\sklearn\\discriminant_analysis.py:692: UserWarning: Variables are collinear\n",
      "  warnings.warn(\"Variables are collinear\")\n",
      "C:\\Users\\Denny\\Anaconda3\\lib\\site-packages\\sklearn\\discriminant_analysis.py:692: UserWarning: Variables are collinear\n",
      "  warnings.warn(\"Variables are collinear\")\n",
      "C:\\Users\\Denny\\Anaconda3\\lib\\site-packages\\sklearn\\discriminant_analysis.py:692: UserWarning: Variables are collinear\n",
      "  warnings.warn(\"Variables are collinear\")\n",
      "C:\\Users\\Denny\\Anaconda3\\lib\\site-packages\\sklearn\\discriminant_analysis.py:692: UserWarning: Variables are collinear\n",
      "  warnings.warn(\"Variables are collinear\")\n"
     ]
    },
    {
     "name": "stdout",
     "output_type": "stream",
     "text": [
      "Accuracy:  0.35210493282337946\n"
     ]
    },
    {
     "name": "stderr",
     "output_type": "stream",
     "text": [
      "C:\\Users\\Denny\\Anaconda3\\lib\\site-packages\\sklearn\\discriminant_analysis.py:692: UserWarning: Variables are collinear\n",
      "  warnings.warn(\"Variables are collinear\")\n"
     ]
    }
   ],
   "source": [
    "from sklearn.discriminant_analysis import QuadraticDiscriminantAnalysis\n",
    "model = QuadraticDiscriminantAnalysis(priors = None,\n",
    "                                      reg_param = 0.0,\n",
    "                                      store_covariance = False,\n",
    "                                      tol = 0.0001,\n",
    "                                      store_covariances = None)\n",
    "model_report(model)"
   ]
  },
  {
   "cell_type": "markdown",
   "metadata": {},
   "source": [
    "(35%, what a mess!)"
   ]
  },
  {
   "cell_type": "markdown",
   "metadata": {},
   "source": [
    "### Support Vector Machines\n",
    "\n",
    "**[1.4.1a C-Support Vector Classifier (SVC)](https://scikit-learn.org/stable/modules/generated/sklearn.svm.SVC.html#sklearn.svm.SVC)**"
   ]
  },
  {
   "cell_type": "code",
   "execution_count": 17,
   "metadata": {
    "ExecuteTime": {
     "end_time": "2019-03-27T14:05:15.869078Z",
     "start_time": "2019-03-27T14:05:15.097528Z"
    }
   },
   "outputs": [
    {
     "name": "stdout",
     "output_type": "stream",
     "text": [
      "Accuracy:  0.794165735020104\n"
     ]
    }
   ],
   "source": [
    "from sklearn.svm import SVC\n",
    "model = SVC(C = 1.0,\n",
    "            kernel = 'rbf',\n",
    "            degree = 3, \n",
    "            gamma= 'auto', \n",
    "            coef0 = 0.0, \n",
    "            shrinking = True, \n",
    "            probability = False, \n",
    "            tol = 0.001, \n",
    "            cache_size = 200, \n",
    "            class_weight = None, \n",
    "            verbose = False, \n",
    "            max_iter = -1, \n",
    "            decision_function_shape= 'ovr', \n",
    "            random_state = None)\n",
    "model_report(model)"
   ]
  },
  {
   "cell_type": "markdown",
   "metadata": {},
   "source": [
    "**[1.4.1b Nu-Support Vector Classifier (NuSVC)](https://scikit-learn.org/stable/modules/generated/sklearn.svm.NuSVC.html#sklearn.svm.NuSVC)**"
   ]
  },
  {
   "cell_type": "code",
   "execution_count": 18,
   "metadata": {
    "ExecuteTime": {
     "end_time": "2019-03-27T14:05:17.109404Z",
     "start_time": "2019-03-27T14:05:15.872069Z"
    }
   },
   "outputs": [
    {
     "name": "stdout",
     "output_type": "stream",
     "text": [
      "Accuracy:  0.9120394233598118\n"
     ]
    }
   ],
   "source": [
    "from sklearn.svm import NuSVC\n",
    "model = NuSVC(nu = 0.5, \n",
    "              kernel = 'rbf', \n",
    "              degree = 3, \n",
    "              gamma = 'auto', \n",
    "              coef0 = 0.0, \n",
    "              shrinking = True, \n",
    "              probability = False, \n",
    "              tol = 0.001, \n",
    "              cache_size = 200, \n",
    "              class_weight = None,\n",
    "              verbose = False,\n",
    "              max_iter = -1,\n",
    "              decision_function_shape = 'ovr', \n",
    "              random_state = None)\n",
    "model_report(model)"
   ]
  },
  {
   "cell_type": "markdown",
   "metadata": {},
   "source": [
    "**[1.4.1c Linear Support Vector Classifier (Linear SVC)](https://scikit-learn.org/stable/modules/generated/sklearn.svm.LinearSVC.html#sklearn.svm.LinearSVC)**"
   ]
  },
  {
   "cell_type": "code",
   "execution_count": 19,
   "metadata": {
    "ExecuteTime": {
     "end_time": "2019-03-27T14:05:20.682768Z",
     "start_time": "2019-03-27T14:05:17.116389Z"
    }
   },
   "outputs": [
    {
     "name": "stderr",
     "output_type": "stream",
     "text": [
      "C:\\Users\\Denny\\Anaconda3\\lib\\site-packages\\sklearn\\svm\\base.py:931: ConvergenceWarning: Liblinear failed to converge, increase the number of iterations.\n",
      "  \"the number of iterations.\", ConvergenceWarning)\n",
      "C:\\Users\\Denny\\Anaconda3\\lib\\site-packages\\sklearn\\svm\\base.py:931: ConvergenceWarning: Liblinear failed to converge, increase the number of iterations.\n",
      "  \"the number of iterations.\", ConvergenceWarning)\n",
      "C:\\Users\\Denny\\Anaconda3\\lib\\site-packages\\sklearn\\svm\\base.py:931: ConvergenceWarning: Liblinear failed to converge, increase the number of iterations.\n",
      "  \"the number of iterations.\", ConvergenceWarning)\n",
      "C:\\Users\\Denny\\Anaconda3\\lib\\site-packages\\sklearn\\svm\\base.py:931: ConvergenceWarning: Liblinear failed to converge, increase the number of iterations.\n",
      "  \"the number of iterations.\", ConvergenceWarning)\n"
     ]
    },
    {
     "name": "stdout",
     "output_type": "stream",
     "text": [
      "Accuracy:  0.9201225850740414\n"
     ]
    },
    {
     "name": "stderr",
     "output_type": "stream",
     "text": [
      "C:\\Users\\Denny\\Anaconda3\\lib\\site-packages\\sklearn\\svm\\base.py:931: ConvergenceWarning: Liblinear failed to converge, increase the number of iterations.\n",
      "  \"the number of iterations.\", ConvergenceWarning)\n"
     ]
    }
   ],
   "source": [
    "from sklearn.svm import LinearSVC\n",
    "model = LinearSVC(penalty = 'l2', \n",
    "                  loss = 'squared_hinge', \n",
    "                  dual = True, \n",
    "                  tol = 0.0001, \n",
    "                  C = 1.0, \n",
    "                  multi_class = 'ovr', \n",
    "                  fit_intercept = True,\n",
    "                  intercept_scaling = 1,\n",
    "                  class_weight = None,\n",
    "                  verbose = 0,\n",
    "                  random_state = None,\n",
    "                  max_iter = 1000)\n",
    "model_report(model)"
   ]
  },
  {
   "cell_type": "markdown",
   "metadata": {},
   "source": [
    "The output told me that the method failed to converge. I will ignore it this time, since I am committed to try only the default parameters before considering any tuning."
   ]
  },
  {
   "cell_type": "markdown",
   "metadata": {},
   "source": [
    "### 1.6 Nearest Neighbors\n",
    "\n",
    "**[1.6.2 Nearest Neighbor Classifier](https://scikit-learn.org/stable/modules/generated/sklearn.neighbors.KNeighborsClassifier.html#sklearn.neighbors.KNeighborsClassifier)**"
   ]
  },
  {
   "cell_type": "code",
   "execution_count": 20,
   "metadata": {
    "ExecuteTime": {
     "end_time": "2019-03-27T14:05:21.331252Z",
     "start_time": "2019-03-27T14:05:20.685761Z"
    }
   },
   "outputs": [
    {
     "name": "stdout",
     "output_type": "stream",
     "text": [
      "Accuracy:  0.8523569677356087\n"
     ]
    }
   ],
   "source": [
    "from sklearn.neighbors import KNeighborsClassifier\n",
    "model = KNeighborsClassifier(n_neighbors = 5, \n",
    "                             weights = 'uniform', \n",
    "                             algorithm= 'auto', \n",
    "                             leaf_size = 30, \n",
    "                             p = 2,\n",
    "                             metric = 'minkowski',\n",
    "                             metric_params = None,\n",
    "                             n_jobs = None)\n",
    "model_report(model)"
   ]
  },
  {
   "cell_type": "markdown",
   "metadata": {},
   "source": [
    "### 1.7 Gaussian Processes\n",
    "\n",
    "**[1.7.3 Gaussian Process Classifier](https://scikit-learn.org/stable/modules/generated/sklearn.gaussian_process.GaussianProcessClassifier.html#sklearn.gaussian_process.GaussianProcessClassifier)**"
   ]
  },
  {
   "cell_type": "code",
   "execution_count": 21,
   "metadata": {
    "ExecuteTime": {
     "end_time": "2019-03-27T14:05:30.188306Z",
     "start_time": "2019-03-27T14:05:21.334244Z"
    }
   },
   "outputs": [
    {
     "name": "stdout",
     "output_type": "stream",
     "text": [
      "Accuracy:  0.8563391193488281\n"
     ]
    }
   ],
   "source": [
    "from sklearn.gaussian_process import GaussianProcessClassifier\n",
    "model = GaussianProcessClassifier(kernel = None, \n",
    "                                  optimizer = 'fmin_l_bfgs_b', \n",
    "                                  n_restarts_optimizer = 0,\n",
    "                                  max_iter_predict = 100,\n",
    "                                  warm_start = False,\n",
    "                                  copy_X_train = True,\n",
    "                                  random_state = None,\n",
    "                                  multi_class = 'one_vs_rest', \n",
    "                                  n_jobs = None)\n",
    "model_report(model)"
   ]
  },
  {
   "cell_type": "markdown",
   "metadata": {},
   "source": [
    "### 1.9 Naive-Bayes\n",
    "\n",
    "**[1.9.1 Gaussian Naive-Bayes](https://scikit-learn.org/stable/modules/generated/sklearn.naive_bayes.GaussianNB.html#sklearn.naive_bayes.GaussianNB)**"
   ]
  },
  {
   "cell_type": "code",
   "execution_count": 22,
   "metadata": {
    "ExecuteTime": {
     "end_time": "2019-03-27T14:05:30.343229Z",
     "start_time": "2019-03-27T14:05:30.195287Z"
    }
   },
   "outputs": [
    {
     "name": "stdout",
     "output_type": "stream",
     "text": [
      "Accuracy:  0.6264395410414829\n"
     ]
    }
   ],
   "source": [
    "from sklearn.naive_bayes import GaussianNB\n",
    "model = GaussianNB(priors = None,\n",
    "                   var_smoothing = 1e-09)\n",
    "model_report(model)"
   ]
  },
  {
   "cell_type": "markdown",
   "metadata": {},
   "source": [
    "**[1.9.4 Bernoulli Naive-Bayes](https://scikit-learn.org/stable/modules/generated/sklearn.naive_bayes.BernoulliNB.html#sklearn.naive_bayes.BernoulliNB)**"
   ]
  },
  {
   "cell_type": "code",
   "execution_count": 23,
   "metadata": {
    "ExecuteTime": {
     "end_time": "2019-03-27T14:05:30.492493Z",
     "start_time": "2019-03-27T14:05:30.347879Z"
    }
   },
   "outputs": [
    {
     "name": "stdout",
     "output_type": "stream",
     "text": [
      "Accuracy:  0.8359623418652544\n"
     ]
    }
   ],
   "source": [
    "from sklearn.naive_bayes import BernoulliNB\n",
    "model = BernoulliNB(alpha = 1.0,\n",
    "                    binarize = 0.0,\n",
    "                    fit_prior = True,\n",
    "                    class_prior = None)\n",
    "model_report(model)"
   ]
  },
  {
   "cell_type": "markdown",
   "metadata": {},
   "source": [
    "### 1.10 Decision Trees\n",
    "\n",
    "**[1.10.1 Decision Tree Classifier](https://scikit-learn.org/stable/modules/generated/sklearn.tree.DecisionTreeClassifier.html#sklearn.tree.DecisionTreeClassifier)**"
   ]
  },
  {
   "cell_type": "code",
   "execution_count": 24,
   "metadata": {
    "ExecuteTime": {
     "end_time": "2019-03-27T14:05:31.720120Z",
     "start_time": "2019-03-27T14:05:30.495485Z"
    }
   },
   "outputs": [
    {
     "name": "stdout",
     "output_type": "stream",
     "text": [
      "Accuracy:  0.8041525939001668\n"
     ]
    }
   ],
   "source": [
    "from sklearn.tree import DecisionTreeClassifier\n",
    "model = DecisionTreeClassifier(criterion = 'gini', \n",
    "                               splitter = 'best',\n",
    "                               max_depth = None,\n",
    "                               min_samples_split = 2,\n",
    "                               min_samples_leaf = 1,\n",
    "                               min_weight_fraction_leaf = 0.0,\n",
    "                               max_features = None,\n",
    "                               random_state = None,\n",
    "                               max_leaf_nodes = None,\n",
    "                               min_impurity_decrease = 0.0,\n",
    "                               min_impurity_split = None,\n",
    "                               class_weight = None,\n",
    "                               presort = False)\n",
    "model_report(model)"
   ]
  },
  {
   "cell_type": "markdown",
   "metadata": {},
   "source": [
    "### 1.11 Ensemble Methods\n",
    "\n",
    "#### 1.11.2 Forests of randomized trees\n",
    "\n",
    "**[1.11.2.1 Random Forest Classifier](https://scikit-learn.org/stable/modules/generated/sklearn.ensemble.RandomForestClassifier.html#sklearn.ensemble.RandomForestClassifier)**"
   ]
  },
  {
   "cell_type": "code",
   "execution_count": 25,
   "metadata": {
    "ExecuteTime": {
     "end_time": "2019-03-27T14:05:32.537490Z",
     "start_time": "2019-03-27T14:05:31.722128Z"
    }
   },
   "outputs": [
    {
     "name": "stdout",
     "output_type": "stream",
     "text": [
      "Accuracy:  0.8704579778366186\n"
     ]
    }
   ],
   "source": [
    "from sklearn.ensemble import RandomForestClassifier\n",
    "model = RandomForestClassifier(n_estimators = 10, \n",
    "                               criterion = 'gini',\n",
    "                               max_depth = None,\n",
    "                               min_samples_split = 2,\n",
    "                               min_samples_leaf = 1,\n",
    "                               min_weight_fraction_leaf = 0.0,\n",
    "                               max_features = 'auto',\n",
    "                               max_leaf_nodes = None,\n",
    "                               min_impurity_decrease = 0.0,\n",
    "                               min_impurity_split = None,\n",
    "                               bootstrap = True,\n",
    "                               oob_score = False,\n",
    "                               n_jobs = None,\n",
    "                               random_state = None,\n",
    "                               verbose = 0,\n",
    "                               warm_start = False,\n",
    "                               class_weight = None)\n",
    "model_report(model)"
   ]
  },
  {
   "cell_type": "markdown",
   "metadata": {},
   "source": [
    "**[1.11.2.2 Extra Trees Classifier](https://scikit-learn.org/stable/modules/generated/sklearn.ensemble.ExtraTreesClassifier.html#sklearn.ensemble.ExtraTreesClassifier)**"
   ]
  },
  {
   "cell_type": "code",
   "execution_count": 26,
   "metadata": {
    "ExecuteTime": {
     "end_time": "2019-03-27T14:05:32.750984Z",
     "start_time": "2019-03-27T14:05:32.544471Z"
    }
   },
   "outputs": [
    {
     "name": "stdout",
     "output_type": "stream",
     "text": [
      "Accuracy:  0.8601037560066687\n"
     ]
    }
   ],
   "source": [
    "from sklearn.ensemble import ExtraTreesClassifier\n",
    "model = ExtraTreesClassifier(n_estimators = 10,\n",
    "                             criterion = 'gini',\n",
    "                             max_depth = None,\n",
    "                             min_samples_split = 2,\n",
    "                             min_samples_leaf = 1,\n",
    "                             min_weight_fraction_leaf = 0.0,\n",
    "                             max_features = 'auto', \n",
    "                             max_leaf_nodes = None,\n",
    "                             min_impurity_decrease = 0.0,\n",
    "                             min_impurity_split = None,\n",
    "                             bootstrap = False,\n",
    "                             oob_score = False,\n",
    "                             n_jobs = None,\n",
    "                             random_state = None,\n",
    "                             verbose = 0,\n",
    "                             warm_start = False,\n",
    "                             class_weight = None)\n",
    "model_report(model)"
   ]
  },
  {
   "cell_type": "markdown",
   "metadata": {},
   "source": [
    "**[1.11.3 Ada Boost Classifier](https://scikit-learn.org/stable/modules/generated/sklearn.ensemble.AdaBoostClassifier.html#sklearn.ensemble.AdaBoostClassifier)**"
   ]
  },
  {
   "cell_type": "code",
   "execution_count": 27,
   "metadata": {
    "ExecuteTime": {
     "end_time": "2019-03-27T14:05:38.816698Z",
     "start_time": "2019-03-27T14:05:32.752978Z"
    }
   },
   "outputs": [
    {
     "name": "stdout",
     "output_type": "stream",
     "text": [
      "Accuracy:  0.5839998038638816\n"
     ]
    }
   ],
   "source": [
    "from sklearn.ensemble import AdaBoostClassifier\n",
    "model = AdaBoostClassifier(base_estimator = None,\n",
    "                           n_estimators = 50,\n",
    "                           learning_rate = 1.0,\n",
    "                           algorithm = 'SAMME.R', \n",
    "                           random_state = None)\n",
    "model_report(model)"
   ]
  },
  {
   "cell_type": "markdown",
   "metadata": {},
   "source": [
    "**[1.11.4 Gradient Boost Classifier](https://scikit-learn.org/stable/modules/generated/sklearn.ensemble.GradientBoostingClassifier.html#sklearn.ensemble.GradientBoostingClassifier)**"
   ]
  },
  {
   "cell_type": "code",
   "execution_count": 28,
   "metadata": {
    "ExecuteTime": {
     "end_time": "2019-03-27T14:06:18.288402Z",
     "start_time": "2019-03-27T14:05:38.818658Z"
    }
   },
   "outputs": [
    {
     "name": "stdout",
     "output_type": "stream",
     "text": [
      "Accuracy:  0.8962118270079434\n"
     ]
    }
   ],
   "source": [
    "from sklearn.ensemble import GradientBoostingClassifier\n",
    "model = GradientBoostingClassifier(loss = 'deviance',\n",
    "                                   learning_rate = 0.1,\n",
    "                                   n_estimators = 100,\n",
    "                                   subsample = 1.0,\n",
    "                                   criterion = 'friedman_mse',\n",
    "                                   min_samples_split = 2,\n",
    "                                   min_samples_leaf = 1,\n",
    "                                   min_weight_fraction_leaf = 0.0, \n",
    "                                   max_depth = 3,\n",
    "                                   min_impurity_decrease = 0.0,\n",
    "                                   min_impurity_split = None,\n",
    "                                   init = None,\n",
    "                                   random_state = None,\n",
    "                                   max_features = None,\n",
    "                                   verbose = 0,\n",
    "                                   max_leaf_nodes = None,\n",
    "                                   warm_start = False,\n",
    "                                   presort = 'auto',\n",
    "                                   validation_fraction = 0.1,\n",
    "                                   n_iter_no_change = None,\n",
    "                                   tol = 0.0001)\n",
    "model_report(model)"
   ]
  },
  {
   "cell_type": "markdown",
   "metadata": {},
   "source": [
    "### 1.17 Neural network models (supervised)\n",
    "\n",
    "**[1.17.2 Multi-Layer Perceptron Classifier](https://scikit-learn.org/stable/modules/generated/sklearn.neural_network.MLPClassifier.html#sklearn.neural_network.MLPClassifier)**"
   ]
  },
  {
   "cell_type": "code",
   "execution_count": 29,
   "metadata": {
    "ExecuteTime": {
     "end_time": "2019-03-27T14:06:25.135558Z",
     "start_time": "2019-03-27T14:06:18.291393Z"
    }
   },
   "outputs": [
    {
     "name": "stderr",
     "output_type": "stream",
     "text": [
      "C:\\Users\\Denny\\Anaconda3\\lib\\site-packages\\sklearn\\neural_network\\multilayer_perceptron.py:562: ConvergenceWarning: Stochastic Optimizer: Maximum iterations (200) reached and the optimization hasn't converged yet.\n",
      "  % self.max_iter, ConvergenceWarning)\n",
      "C:\\Users\\Denny\\Anaconda3\\lib\\site-packages\\sklearn\\neural_network\\multilayer_perceptron.py:562: ConvergenceWarning: Stochastic Optimizer: Maximum iterations (200) reached and the optimization hasn't converged yet.\n",
      "  % self.max_iter, ConvergenceWarning)\n"
     ]
    },
    {
     "name": "stdout",
     "output_type": "stream",
     "text": [
      "Accuracy:  0.8009687162891046\n"
     ]
    }
   ],
   "source": [
    "from sklearn.neural_network import MLPClassifier\n",
    "model = MLPClassifier(hidden_layer_sizes = (100, ), \n",
    "                      activation = 'relu',\n",
    "                      solver = 'adam',\n",
    "                      alpha = 0.0001,\n",
    "                      batch_size = 'auto',\n",
    "                      learning_rate = 'constant',\n",
    "                      learning_rate_init = 0.001,\n",
    "                      power_t = 0.5,\n",
    "                      max_iter = 200,\n",
    "                      shuffle = True,\n",
    "                      random_state = None,\n",
    "                      tol = 0.0001,\n",
    "                      verbose = False,\n",
    "                      warm_start = False,\n",
    "                      momentum = 0.9,\n",
    "                      nesterovs_momentum = True,\n",
    "                      early_stopping = False,\n",
    "                      validation_fraction = 0.1,\n",
    "                      beta_1 = 0.9,\n",
    "                      beta_2 = 0.999,\n",
    "                      epsilon = 1e-08,\n",
    "                      n_iter_no_change = 10)\n",
    "model_report(model)"
   ]
  },
  {
   "cell_type": "markdown",
   "metadata": {},
   "source": [
    "### Best models so far!\n",
    "\n",
    "My top-5 performing models are:\n",
    "\n",
    "| # | Model | Accuracy |\n",
    "| - | - | - |\n",
    "| 1 | Logistic Regression | 92.23% |\n",
    "| 2 | Linear Support Vector Classifier | 92.01% |\n",
    "| 3 | Nu-Support Vector Classifier | 91.20% |\n",
    "| 4 | Gradient Boost Classifier | 89.62% |\n",
    "| 5 | Random Forest Classifier | 87.05% |\n",
    "\n",
    "One linear model, two support vector machines and two ensembles.\n",
    "\n",
    "Now remember, so far I was using only a sample of the original dataset. Let me try the whole thing on these 5 models to check what happens."
   ]
  },
  {
   "cell_type": "markdown",
   "metadata": {},
   "source": [
    "#### Logistic Regression"
   ]
  },
  {
   "cell_type": "code",
   "execution_count": 30,
   "metadata": {
    "ExecuteTime": {
     "end_time": "2019-03-27T14:06:51.096652Z",
     "start_time": "2019-03-27T14:06:25.138550Z"
    }
   },
   "outputs": [
    {
     "name": "stdout",
     "output_type": "stream",
     "text": [
      "Accuracy:  0.938677826815268\n"
     ]
    }
   ],
   "source": [
    "model = LogisticRegression(penalty = 'l2', \n",
    "                           dual = False, \n",
    "                           tol = 0.0001,\n",
    "                           C = 1.0, \n",
    "                           fit_intercept = True, \n",
    "                           intercept_scaling = 1, \n",
    "                           class_weight = None, \n",
    "                           random_state = None, \n",
    "                           solver= 'liblinear', \n",
    "                           max_iter = 100, \n",
    "                           multi_class= 'ovr', \n",
    "                           verbose=0, \n",
    "                           warm_start = False, \n",
    "                           n_jobs = None)\n",
    "model_report(model, X_train, y_train)"
   ]
  },
  {
   "cell_type": "markdown",
   "metadata": {},
   "source": [
    "#### Linear Support Vector Classifier"
   ]
  },
  {
   "cell_type": "code",
   "execution_count": 31,
   "metadata": {
    "ExecuteTime": {
     "end_time": "2019-03-27T14:07:11.840988Z",
     "start_time": "2019-03-27T14:06:51.099645Z"
    }
   },
   "outputs": [
    {
     "name": "stderr",
     "output_type": "stream",
     "text": [
      "C:\\Users\\Denny\\Anaconda3\\lib\\site-packages\\sklearn\\svm\\base.py:931: ConvergenceWarning: Liblinear failed to converge, increase the number of iterations.\n",
      "  \"the number of iterations.\", ConvergenceWarning)\n",
      "C:\\Users\\Denny\\Anaconda3\\lib\\site-packages\\sklearn\\svm\\base.py:931: ConvergenceWarning: Liblinear failed to converge, increase the number of iterations.\n",
      "  \"the number of iterations.\", ConvergenceWarning)\n",
      "C:\\Users\\Denny\\Anaconda3\\lib\\site-packages\\sklearn\\svm\\base.py:931: ConvergenceWarning: Liblinear failed to converge, increase the number of iterations.\n",
      "  \"the number of iterations.\", ConvergenceWarning)\n",
      "C:\\Users\\Denny\\Anaconda3\\lib\\site-packages\\sklearn\\svm\\base.py:931: ConvergenceWarning: Liblinear failed to converge, increase the number of iterations.\n",
      "  \"the number of iterations.\", ConvergenceWarning)\n"
     ]
    },
    {
     "name": "stdout",
     "output_type": "stream",
     "text": [
      "Accuracy:  0.9416726018585478\n"
     ]
    },
    {
     "name": "stderr",
     "output_type": "stream",
     "text": [
      "C:\\Users\\Denny\\Anaconda3\\lib\\site-packages\\sklearn\\svm\\base.py:931: ConvergenceWarning: Liblinear failed to converge, increase the number of iterations.\n",
      "  \"the number of iterations.\", ConvergenceWarning)\n"
     ]
    }
   ],
   "source": [
    "model = LinearSVC(penalty = 'l2', \n",
    "                  loss = 'squared_hinge', \n",
    "                  dual = True, \n",
    "                  tol = 0.0001, \n",
    "                  C = 1.0, \n",
    "                  multi_class = 'ovr', \n",
    "                  fit_intercept = True,\n",
    "                  intercept_scaling = 1,\n",
    "                  class_weight = None,\n",
    "                  verbose = 0,\n",
    "                  random_state = None,\n",
    "                  max_iter = 1000)\n",
    "model_report(model, X_train, y_train)"
   ]
  },
  {
   "cell_type": "markdown",
   "metadata": {},
   "source": [
    "#### Nu-Support Vector Classifier"
   ]
  },
  {
   "cell_type": "code",
   "execution_count": 32,
   "metadata": {
    "ExecuteTime": {
     "end_time": "2019-03-27T14:10:46.759455Z",
     "start_time": "2019-03-27T14:07:11.842980Z"
    },
    "code_folding": []
   },
   "outputs": [
    {
     "name": "stdout",
     "output_type": "stream",
     "text": [
      "Accuracy:  0.9126915733603577\n"
     ]
    }
   ],
   "source": [
    "model = NuSVC(nu = 0.5, \n",
    "              kernel = 'rbf', \n",
    "              degree = 3, \n",
    "              gamma = 'auto', \n",
    "              coef0 = 0.0, \n",
    "              shrinking = True, \n",
    "              probability = False, \n",
    "              tol = 0.001, \n",
    "              cache_size = 200, \n",
    "              class_weight = None,\n",
    "              verbose = False,\n",
    "              max_iter = -1,\n",
    "              decision_function_shape = 'ovr', \n",
    "              random_state = None)\n",
    "model_report(model, X_train, y_train)"
   ]
  },
  {
   "cell_type": "markdown",
   "metadata": {},
   "source": [
    "#### Gradient Boost Classifier"
   ]
  },
  {
   "cell_type": "code",
   "execution_count": 33,
   "metadata": {
    "ExecuteTime": {
     "end_time": "2019-03-27T14:22:53.422062Z",
     "start_time": "2019-03-27T14:10:46.762447Z"
    }
   },
   "outputs": [
    {
     "name": "stdout",
     "output_type": "stream",
     "text": [
      "Accuracy:  0.9215380698791416\n"
     ]
    }
   ],
   "source": [
    "model = GradientBoostingClassifier(loss = 'deviance',\n",
    "                                   learning_rate = 0.1,\n",
    "                                   n_estimators = 100,\n",
    "                                   subsample = 1.0,\n",
    "                                   criterion = 'friedman_mse',\n",
    "                                   min_samples_split = 2,\n",
    "                                   min_samples_leaf = 1,\n",
    "                                   min_weight_fraction_leaf = 0.0, \n",
    "                                   max_depth = 3,\n",
    "                                   min_impurity_decrease = 0.0,\n",
    "                                   min_impurity_split = None,\n",
    "                                   init = None,\n",
    "                                   random_state = None,\n",
    "                                   max_features = None,\n",
    "                                   verbose = 0,\n",
    "                                   max_leaf_nodes = None,\n",
    "                                   warm_start = False,\n",
    "                                   presort = 'auto',\n",
    "                                   validation_fraction = 0.1,\n",
    "                                   n_iter_no_change = None,\n",
    "                                   tol = 0.0001)\n",
    "model_report(model, X_train, y_train)"
   ]
  },
  {
   "cell_type": "markdown",
   "metadata": {},
   "source": [
    "#### Random Forest Classifier"
   ]
  },
  {
   "cell_type": "code",
   "execution_count": 34,
   "metadata": {
    "ExecuteTime": {
     "end_time": "2019-03-27T14:22:58.055797Z",
     "start_time": "2019-03-27T14:22:53.544038Z"
    }
   },
   "outputs": [
    {
     "name": "stdout",
     "output_type": "stream",
     "text": [
      "Accuracy:  0.9000388605962494\n"
     ]
    }
   ],
   "source": [
    "model = RandomForestClassifier(n_estimators = 10, \n",
    "                               criterion = 'gini',\n",
    "                               max_depth = None,\n",
    "                               min_samples_split = 2,\n",
    "                               min_samples_leaf = 1,\n",
    "                               min_weight_fraction_leaf = 0.0,\n",
    "                               max_features = 'auto',\n",
    "                               max_leaf_nodes = None,\n",
    "                               min_impurity_decrease = 0.0,\n",
    "                               min_impurity_split = None,\n",
    "                               bootstrap = True,\n",
    "                               oob_score = False,\n",
    "                               n_jobs = None,\n",
    "                               random_state = None,\n",
    "                               verbose = 0,\n",
    "                               warm_start = False,\n",
    "                               class_weight = None)\n",
    "model_report(model, X_train, y_train)"
   ]
  },
  {
   "cell_type": "markdown",
   "metadata": {},
   "source": [
    "First thing I notice is that all models are performing better. That showcases one of the commandments of Data Science: more data is always better.\n",
    "\n",
    "Second, the classification of best-performing models changed a bit:\n",
    "\n",
    "| # | Model | Accuracy |\n",
    "| - | - | - |\n",
    "| 1 | Linear Support Vector Classifier | 94.17% 🡅 |\n",
    "| 2 | Logistic Regression | 93.87% 🡇 |\n",
    "| 3 | Gradient Boost Classifier | 92.15% 🡅 |\n",
    "| 4 | Nu-Support Vector Classifier | 91.27% 🡇 |\n",
    "| 5 | Random Forest Classifier | 90.00% ⯀ |\n",
    "\n",
    "The best-performing model is then the **Linear Support Vector Classifier**. We will now work on tuning its parameters so try to make it perform even better."
   ]
  },
  {
   "cell_type": "markdown",
   "metadata": {},
   "source": [
    "### The tuning step\n",
    "\n",
    "I am choosing to make use of the [GridSearchCV function](https://scikit-learn.org/stable/modules/generated/sklearn.model_selection.GridSearchCV.html) from Scikit-Learn. The idea is to pass all parameters to be tuned, hit enter, tilt my chair back and wait. The number of fits is expected to be high, but tuning is usually a heavy time-consuming step nonetheless.\n",
    "\n",
    "The parameters to be considered can be identified from the [Linear Support Vector Classifier documentation](https://scikit-learn.org/stable/modules/generated/sklearn.svm.LinearSVC.html#sklearn.svm.LinearSVC). Some parameters, though, are not quite fit for tuning. For instance, I could confidently choose a \"large enough\" `max_iter`, say `500000`. Also, `tol` equals to `0.0001` seems good enough. I will also go with the standard values for some of the optional parameters, such as `intercept_scaling` and `class_weight`, as the information from the documentation did not convince me to tweak them.\n",
    "\n",
    "All things said, there we go."
   ]
  },
  {
   "cell_type": "code",
   "execution_count": 35,
   "metadata": {
    "ExecuteTime": {
     "end_time": "2019-03-27T21:13:09.255032Z",
     "start_time": "2019-03-27T14:22:58.057745Z"
    },
    "code_folding": []
   },
   "outputs": [
    {
     "name": "stdout",
     "output_type": "stream",
     "text": [
      "Fitting 5 folds for each of 128 candidates, totalling 640 fits\n"
     ]
    },
    {
     "name": "stderr",
     "output_type": "stream",
     "text": [
      "[Parallel(n_jobs=3)]: Using backend LokyBackend with 3 concurrent workers.\n",
      "[Parallel(n_jobs=3)]: Done  35 tasks      | elapsed:  6.4min\n",
      "[Parallel(n_jobs=3)]: Done 156 tasks      | elapsed: 30.6min\n",
      "[Parallel(n_jobs=3)]: Done 359 tasks      | elapsed: 121.3min\n",
      "[Parallel(n_jobs=3)]: Done 640 out of 640 | elapsed: 408.0min finished\n"
     ]
    },
    {
     "name": "stdout",
     "output_type": "stream",
     "text": [
      "[LibLinear]"
     ]
    },
    {
     "data": {
      "text/plain": [
       "GridSearchCV(cv=5, error_score=0,\n",
       "       estimator=LinearSVC(C=1.0, class_weight=None, dual=True, fit_intercept=True,\n",
       "     intercept_scaling=1, loss='squared_hinge', max_iter=500000,\n",
       "     multi_class='ovr', penalty='l2', random_state=None, tol=0.0001,\n",
       "     verbose=2),\n",
       "       fit_params=None, iid=True, n_jobs=3,\n",
       "       param_grid={'penalty': ('l1', 'l2'), 'loss': ('hinge', 'squared_hinge'), 'dual': (True, False), 'fit_intercept': (True, False), 'C': (0.1, 0.5, 1, 10), 'multi_class': ('ovr', 'crammer_singer')},\n",
       "       pre_dispatch='2*n_jobs', refit=True, return_train_score=True,\n",
       "       scoring=None, verbose=2)"
      ]
     },
     "execution_count": 35,
     "metadata": {},
     "output_type": "execute_result"
    }
   ],
   "source": [
    "# The model will include the fixed parameters\n",
    "model = LinearSVC(tol = 0.0001, \n",
    "                  intercept_scaling = 1,\n",
    "                  class_weight = None,\n",
    "                  verbose = 1, \n",
    "                  random_state = None, \n",
    "                  max_iter = 500000)\n",
    "\n",
    "# This dictionary will include the parameters to be tried\n",
    "parameters = {'penalty': ('l1', 'l2'),\n",
    "              'loss': ('hinge', 'squared_hinge'),\n",
    "              'dual': (True, False),\n",
    "              'fit_intercept': (True, False),\n",
    "              'C': (0.1, 0.5, 1, 10),\n",
    "              'multi_class': ('ovr', 'crammer_singer')}\n",
    "\n",
    "from sklearn.model_selection import GridSearchCV\n",
    "import multiprocessing\n",
    "gridsearch = GridSearchCV(estimator = model, \n",
    "                          param_grid = parameters,\n",
    "                          scoring = None,\n",
    "                          fit_params = None,\n",
    "                          n_jobs = multiprocessing.cpu_count() - 1,\n",
    "                          iid = True,\n",
    "                          refit = True,\n",
    "                          cv = 5,\n",
    "                          verbose = 2,\n",
    "                          pre_dispatch = '2*n_jobs',\n",
    "                          error_score = 0, \n",
    "                          return_train_score = True)\n",
    "gridsearch.fit(X_train, np.ravel(y_train))"
   ]
  },
  {
   "cell_type": "markdown",
   "metadata": {},
   "source": [
    "Now, almost 7 hours later, I can inspect what the best parameters found and the best score are."
   ]
  },
  {
   "cell_type": "code",
   "execution_count": 36,
   "metadata": {
    "ExecuteTime": {
     "end_time": "2019-03-27T21:13:09.805482Z",
     "start_time": "2019-03-27T21:13:09.540190Z"
    }
   },
   "outputs": [
    {
     "name": "stdout",
     "output_type": "stream",
     "text": [
      "{'C': 0.5, 'dual': False, 'fit_intercept': True, 'loss': 'squared_hinge', 'multi_class': 'ovr', 'penalty': 'l1'}\n",
      "0.9440968443960827\n"
     ]
    }
   ],
   "source": [
    "print(gridsearch.best_params_)\n",
    "print(gridsearch.best_score_)"
   ]
  },
  {
   "cell_type": "markdown",
   "metadata": {},
   "source": [
    "The accuracy increased from 94.17% to 94.41%. A small increase, but that is what the tuning process usually does.\n",
    "\n",
    "Now I can go on to the final step!"
   ]
  },
  {
   "cell_type": "markdown",
   "metadata": {},
   "source": [
    "### Prediction on the test set\n",
    "\n",
    "First let me load the test set and inspect it quickly."
   ]
  },
  {
   "cell_type": "code",
   "execution_count": 37,
   "metadata": {
    "ExecuteTime": {
     "end_time": "2019-03-27T21:13:13.332127Z",
     "start_time": "2019-03-27T21:13:09.807503Z"
    }
   },
   "outputs": [
    {
     "data": {
      "text/html": [
       "<div>\n",
       "<style scoped>\n",
       "    .dataframe tbody tr th:only-of-type {\n",
       "        vertical-align: middle;\n",
       "    }\n",
       "\n",
       "    .dataframe tbody tr th {\n",
       "        vertical-align: top;\n",
       "    }\n",
       "\n",
       "    .dataframe thead th {\n",
       "        text-align: right;\n",
       "    }\n",
       "</style>\n",
       "<table border=\"1\" class=\"dataframe\">\n",
       "  <thead>\n",
       "    <tr style=\"text-align: right;\">\n",
       "      <th>1</th>\n",
       "      <th>tBodyAcc-mean()-X</th>\n",
       "      <th>tBodyAcc-mean()-Y</th>\n",
       "      <th>tBodyAcc-mean()-Z</th>\n",
       "      <th>tBodyAcc-std()-X</th>\n",
       "      <th>tBodyAcc-std()-Y</th>\n",
       "      <th>tBodyAcc-std()-Z</th>\n",
       "      <th>tBodyAcc-mad()-X</th>\n",
       "      <th>tBodyAcc-mad()-Y</th>\n",
       "      <th>tBodyAcc-mad()-Z</th>\n",
       "      <th>tBodyAcc-max()-X</th>\n",
       "      <th>...</th>\n",
       "      <th>fBodyBodyGyroJerkMag-meanFreq()</th>\n",
       "      <th>fBodyBodyGyroJerkMag-skewness()</th>\n",
       "      <th>fBodyBodyGyroJerkMag-kurtosis()</th>\n",
       "      <th>angle(tBodyAccMean,gravity)</th>\n",
       "      <th>angle(tBodyAccJerkMean),gravityMean)</th>\n",
       "      <th>angle(tBodyGyroMean,gravityMean)</th>\n",
       "      <th>angle(tBodyGyroJerkMean,gravityMean)</th>\n",
       "      <th>angle(X,gravityMean)</th>\n",
       "      <th>angle(Y,gravityMean)</th>\n",
       "      <th>angle(Z,gravityMean)</th>\n",
       "    </tr>\n",
       "  </thead>\n",
       "  <tbody>\n",
       "    <tr>\n",
       "      <th>0</th>\n",
       "      <td>0.257178</td>\n",
       "      <td>-0.023285</td>\n",
       "      <td>-0.014654</td>\n",
       "      <td>-0.938404</td>\n",
       "      <td>-0.920091</td>\n",
       "      <td>-0.667683</td>\n",
       "      <td>-0.952501</td>\n",
       "      <td>-0.925249</td>\n",
       "      <td>-0.674302</td>\n",
       "      <td>-0.894088</td>\n",
       "      <td>...</td>\n",
       "      <td>0.071645</td>\n",
       "      <td>-0.330370</td>\n",
       "      <td>-0.705974</td>\n",
       "      <td>0.006462</td>\n",
       "      <td>0.162920</td>\n",
       "      <td>-0.825886</td>\n",
       "      <td>0.271151</td>\n",
       "      <td>-0.720009</td>\n",
       "      <td>0.276801</td>\n",
       "      <td>-0.057978</td>\n",
       "    </tr>\n",
       "    <tr>\n",
       "      <th>1</th>\n",
       "      <td>0.286027</td>\n",
       "      <td>-0.013163</td>\n",
       "      <td>-0.119083</td>\n",
       "      <td>-0.975415</td>\n",
       "      <td>-0.967458</td>\n",
       "      <td>-0.944958</td>\n",
       "      <td>-0.986799</td>\n",
       "      <td>-0.968401</td>\n",
       "      <td>-0.945823</td>\n",
       "      <td>-0.894088</td>\n",
       "      <td>...</td>\n",
       "      <td>-0.401189</td>\n",
       "      <td>-0.121845</td>\n",
       "      <td>-0.594944</td>\n",
       "      <td>-0.083495</td>\n",
       "      <td>0.017500</td>\n",
       "      <td>-0.434375</td>\n",
       "      <td>0.920593</td>\n",
       "      <td>-0.698091</td>\n",
       "      <td>0.281343</td>\n",
       "      <td>-0.083898</td>\n",
       "    </tr>\n",
       "    <tr>\n",
       "      <th>2</th>\n",
       "      <td>0.275485</td>\n",
       "      <td>-0.026050</td>\n",
       "      <td>-0.118152</td>\n",
       "      <td>-0.993819</td>\n",
       "      <td>-0.969926</td>\n",
       "      <td>-0.962748</td>\n",
       "      <td>-0.994403</td>\n",
       "      <td>-0.970735</td>\n",
       "      <td>-0.963483</td>\n",
       "      <td>-0.939260</td>\n",
       "      <td>...</td>\n",
       "      <td>0.062891</td>\n",
       "      <td>-0.190422</td>\n",
       "      <td>-0.640736</td>\n",
       "      <td>-0.034956</td>\n",
       "      <td>0.202302</td>\n",
       "      <td>0.064103</td>\n",
       "      <td>0.145068</td>\n",
       "      <td>-0.702771</td>\n",
       "      <td>0.280083</td>\n",
       "      <td>-0.079346</td>\n",
       "    </tr>\n",
       "    <tr>\n",
       "      <th>3</th>\n",
       "      <td>0.270298</td>\n",
       "      <td>-0.032614</td>\n",
       "      <td>-0.117520</td>\n",
       "      <td>-0.994743</td>\n",
       "      <td>-0.973268</td>\n",
       "      <td>-0.967091</td>\n",
       "      <td>-0.995274</td>\n",
       "      <td>-0.974471</td>\n",
       "      <td>-0.968897</td>\n",
       "      <td>-0.938610</td>\n",
       "      <td>...</td>\n",
       "      <td>0.116695</td>\n",
       "      <td>-0.344418</td>\n",
       "      <td>-0.736124</td>\n",
       "      <td>-0.017067</td>\n",
       "      <td>0.154438</td>\n",
       "      <td>0.340134</td>\n",
       "      <td>0.296407</td>\n",
       "      <td>-0.698954</td>\n",
       "      <td>0.284114</td>\n",
       "      <td>-0.077108</td>\n",
       "    </tr>\n",
       "    <tr>\n",
       "      <th>4</th>\n",
       "      <td>0.274833</td>\n",
       "      <td>-0.027848</td>\n",
       "      <td>-0.129527</td>\n",
       "      <td>-0.993852</td>\n",
       "      <td>-0.967445</td>\n",
       "      <td>-0.978295</td>\n",
       "      <td>-0.994111</td>\n",
       "      <td>-0.965953</td>\n",
       "      <td>-0.977346</td>\n",
       "      <td>-0.938610</td>\n",
       "      <td>...</td>\n",
       "      <td>-0.121711</td>\n",
       "      <td>-0.534685</td>\n",
       "      <td>-0.846595</td>\n",
       "      <td>-0.002223</td>\n",
       "      <td>-0.040046</td>\n",
       "      <td>0.736715</td>\n",
       "      <td>-0.118545</td>\n",
       "      <td>-0.692245</td>\n",
       "      <td>0.290722</td>\n",
       "      <td>-0.073857</td>\n",
       "    </tr>\n",
       "  </tbody>\n",
       "</table>\n",
       "<p>5 rows × 561 columns</p>\n",
       "</div>"
      ],
      "text/plain": [
       "1  tBodyAcc-mean()-X  tBodyAcc-mean()-Y  tBodyAcc-mean()-Z  tBodyAcc-std()-X  \\\n",
       "0           0.257178          -0.023285          -0.014654         -0.938404   \n",
       "1           0.286027          -0.013163          -0.119083         -0.975415   \n",
       "2           0.275485          -0.026050          -0.118152         -0.993819   \n",
       "3           0.270298          -0.032614          -0.117520         -0.994743   \n",
       "4           0.274833          -0.027848          -0.129527         -0.993852   \n",
       "\n",
       "1  tBodyAcc-std()-Y  tBodyAcc-std()-Z  tBodyAcc-mad()-X  tBodyAcc-mad()-Y  \\\n",
       "0         -0.920091         -0.667683         -0.952501         -0.925249   \n",
       "1         -0.967458         -0.944958         -0.986799         -0.968401   \n",
       "2         -0.969926         -0.962748         -0.994403         -0.970735   \n",
       "3         -0.973268         -0.967091         -0.995274         -0.974471   \n",
       "4         -0.967445         -0.978295         -0.994111         -0.965953   \n",
       "\n",
       "1  tBodyAcc-mad()-Z  tBodyAcc-max()-X  ...  fBodyBodyGyroJerkMag-meanFreq()  \\\n",
       "0         -0.674302         -0.894088  ...                         0.071645   \n",
       "1         -0.945823         -0.894088  ...                        -0.401189   \n",
       "2         -0.963483         -0.939260  ...                         0.062891   \n",
       "3         -0.968897         -0.938610  ...                         0.116695   \n",
       "4         -0.977346         -0.938610  ...                        -0.121711   \n",
       "\n",
       "1  fBodyBodyGyroJerkMag-skewness()  fBodyBodyGyroJerkMag-kurtosis()  \\\n",
       "0                        -0.330370                        -0.705974   \n",
       "1                        -0.121845                        -0.594944   \n",
       "2                        -0.190422                        -0.640736   \n",
       "3                        -0.344418                        -0.736124   \n",
       "4                        -0.534685                        -0.846595   \n",
       "\n",
       "1  angle(tBodyAccMean,gravity)  angle(tBodyAccJerkMean),gravityMean)  \\\n",
       "0                     0.006462                              0.162920   \n",
       "1                    -0.083495                              0.017500   \n",
       "2                    -0.034956                              0.202302   \n",
       "3                    -0.017067                              0.154438   \n",
       "4                    -0.002223                             -0.040046   \n",
       "\n",
       "1  angle(tBodyGyroMean,gravityMean)  angle(tBodyGyroJerkMean,gravityMean)  \\\n",
       "0                         -0.825886                              0.271151   \n",
       "1                         -0.434375                              0.920593   \n",
       "2                          0.064103                              0.145068   \n",
       "3                          0.340134                              0.296407   \n",
       "4                          0.736715                             -0.118545   \n",
       "\n",
       "1  angle(X,gravityMean)  angle(Y,gravityMean)  angle(Z,gravityMean)  \n",
       "0             -0.720009              0.276801             -0.057978  \n",
       "1             -0.698091              0.281343             -0.083898  \n",
       "2             -0.702771              0.280083             -0.079346  \n",
       "3             -0.698954              0.284114             -0.077108  \n",
       "4             -0.692245              0.290722             -0.073857  \n",
       "\n",
       "[5 rows x 561 columns]"
      ]
     },
     "execution_count": 37,
     "metadata": {},
     "output_type": "execute_result"
    }
   ],
   "source": [
    "X_test = pd.read_csv('test/X_test.txt', delimiter = '\\s+',  header = None)\n",
    "X_test.columns = features_names.iloc[:, 1]\n",
    "X_test.head()"
   ]
  },
  {
   "cell_type": "markdown",
   "metadata": {},
   "source": [
    "All looks good, I will assume the test set is as integrate as the training set.\n",
    "\n",
    "Now I am loading the labels for the test set, then predicting these same labels based on my model."
   ]
  },
  {
   "cell_type": "code",
   "execution_count": 38,
   "metadata": {
    "ExecuteTime": {
     "end_time": "2019-03-27T21:13:14.174798Z",
     "start_time": "2019-03-27T21:13:13.361964Z"
    }
   },
   "outputs": [],
   "source": [
    "y_test = pd.read_csv('test/y_test.txt', delimiter = '\\s+', header = None)\n",
    "\n",
    "y_pred = gridsearch.best_estimator_.predict(X_test)"
   ]
  },
  {
   "cell_type": "markdown",
   "metadata": {},
   "source": [
    "Finally, I can check how the model performed when fed the test set. \n",
    "\n",
    "First, by checking exactly whether each instance was correctly classified or misclassified."
   ]
  },
  {
   "cell_type": "code",
   "execution_count": 39,
   "metadata": {
    "ExecuteTime": {
     "end_time": "2019-03-27T21:13:14.725366Z",
     "start_time": "2019-03-27T21:13:14.185765Z"
    }
   },
   "outputs": [
    {
     "data": {
      "text/plain": [
       "array([[495,   0,   1,   0,   0,   0],\n",
       "       [ 18, 453,   0,   0,   0,   0],\n",
       "       [  2,   5, 413,   0,   0,   0],\n",
       "       [  0,   4,   0, 430,  56,   1],\n",
       "       [  1,   0,   0,  12, 519,   0],\n",
       "       [  0,   0,   0,   0,   0, 537]], dtype=int64)"
      ]
     },
     "execution_count": 39,
     "metadata": {},
     "output_type": "execute_result"
    }
   ],
   "source": [
    "metrics.confusion_matrix(y_test, y_pred)"
   ]
  },
  {
   "cell_type": "markdown",
   "metadata": {
    "ExecuteTime": {
     "end_time": "2019-03-27T13:51:16.171462Z",
     "start_time": "2019-03-27T13:51:15.681854Z"
    }
   },
   "source": [
    "The diagonal in the confusion matrix shows the correctly labeled instances, which are clearly the majority of them. Then I see that the activities the model found harder to distinguish were 1 (walking) and 2 (walking upstairs), where 19 instances were misclassified, and also 4 (sitting) and 5 (standing), where 56+12=68 misclassifications occurred.\n",
    "\n",
    "Second, the accuracy on the test set!"
   ]
  },
  {
   "cell_type": "code",
   "execution_count": 40,
   "metadata": {
    "ExecuteTime": {
     "end_time": "2019-03-27T21:13:14.754252Z",
     "start_time": "2019-03-27T21:13:14.732302Z"
    }
   },
   "outputs": [
    {
     "data": {
      "text/plain": [
       "0.9660671869697998"
      ]
     },
     "execution_count": 40,
     "metadata": {},
     "output_type": "execute_result"
    }
   ],
   "source": [
    "metrics.accuracy_score(y_test, y_pred)"
   ]
  },
  {
   "cell_type": "markdown",
   "metadata": {},
   "source": [
    "I got 96.61% of final accuracy."
   ]
  },
  {
   "cell_type": "markdown",
   "metadata": {},
   "source": [
    "### Conclusion\n",
    "\n",
    "Evaluating how good an accuracy score is is usually not so straightforward, because we cannot know in advance how the \"best *practical* model ever\" would perform for comparison, even though we certainly aim at 100% of accuracy (the \"best *theoretical* model ever\"). \n",
    "\n",
    "But then, we should remember that the dataset comprises 6 activities, therefore, if we \"predicted\" the labels at random with equal probabilities, we were expecting 100/6 = 16.67% of accuracy. \n",
    "\n",
    "I can thus conclude that the model I fitted is performing way better than random, while it is also quite close to perfect accuracy. That is awesome!\n",
    "\n",
    "And that is that! [Arh-wooooooooo!](https://www.urbandictionary.com/define.php?term=Howl)"
   ]
  }
 ],
 "metadata": {
  "kernelspec": {
   "display_name": "Python 3",
   "language": "python",
   "name": "python3"
  },
  "language_info": {
   "codemirror_mode": {
    "name": "ipython",
    "version": 3
   },
   "file_extension": ".py",
   "mimetype": "text/x-python",
   "name": "python",
   "nbconvert_exporter": "python",
   "pygments_lexer": "ipython3",
   "version": "3.7.2"
  }
 },
 "nbformat": 4,
 "nbformat_minor": 2
}
